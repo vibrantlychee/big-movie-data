{
 "cells": [
  {
   "cell_type": "markdown",
   "metadata": {},
   "source": [
    "# Flop or Not? (Binary Classification)"
   ]
  },
  {
   "cell_type": "markdown",
   "metadata": {},
   "source": [
    "# Setup"
   ]
  },
  {
   "cell_type": "code",
   "execution_count": 2,
   "metadata": {},
   "outputs": [],
   "source": [
    "import pandas as pd\n",
    "from sklearn import preprocessing\n",
    "import numpy as np\n",
    "import seaborn as sb\n",
    "\n",
    "%matplotlib inline\n",
    "import matplotlib.pyplot as plt\n",
    "\n",
    "from cleaning_tools import flatten, flatten_people, one_hot\n",
    "\n",
    "# read in data\n",
    "%store -r raw_data"
   ]
  },
  {
   "cell_type": "markdown",
   "metadata": {},
   "source": [
    "# Cleaning\n",
    "Zero make sense for `vote_average` and `vote_count`. Hence, we only need to check null values"
   ]
  },
  {
   "cell_type": "code",
   "execution_count": 3,
   "metadata": {},
   "outputs": [
    {
     "name": "stdout",
     "output_type": "stream",
     "text": [
      "<class 'pandas.core.frame.DataFrame'>\n",
      "RangeIndex: 5000 entries, 0 to 4999\n",
      "Data columns (total 2 columns):\n",
      " #   Column        Non-Null Count  Dtype  \n",
      "---  ------        --------------  -----  \n",
      " 0   vote_average  5000 non-null   float64\n",
      " 1   vote_count    5000 non-null   int64  \n",
      "dtypes: float64(1), int64(1)\n",
      "memory usage: 78.2 KB\n"
     ]
    }
   ],
   "source": [
    "raw_data[[\"vote_average\", \"vote_count\"]].info()"
   ]
  },
  {
   "cell_type": "markdown",
   "metadata": {},
   "source": [
    "# Implement V-Score\n",
    "Suppose a film has a `vote_average` = $a$ and `vote_count` = $n$. Then its $V$-score is given by:\n",
    "$$\n",
    "V \\vcentcolon= \\frac{\\frac{a}{10}n + 1}{n + 2}\n",
    "$$\n",
    "\n",
    "We add a new column of $V$-scores to the dataframe. "
   ]
  },
  {
   "cell_type": "code",
   "execution_count": 4,
   "metadata": {},
   "outputs": [],
   "source": [
    "raw_data[\"v_score\"] = ((raw_data[\"vote_average\"]/10) * raw_data[\"vote_count\"] + 1) / (raw_data[\"vote_count\"] + 2)"
   ]
  },
  {
   "cell_type": "markdown",
   "metadata": {},
   "source": [
    "Observe the distribution of $V$-scores. "
   ]
  },
  {
   "cell_type": "code",
   "execution_count": 5,
   "metadata": {},
   "outputs": [
    {
     "data": {
      "image/png": "[encoded data removed]",
      "text/plain": [
       "<Figure size 432x288 with 1 Axes>"
      ]
     },
     "metadata": {},
     "output_type": "display_data"
    }
   ],
   "source": [
    "plt.figure(facecolor=\"white\")\n",
    "\n",
    "raw_data[\"v_score\"].plot.hist(bins=15)\n",
    "\n",
    "plt.title(\"Distribution of $V$-Scores\")\n",
    "plt.xlabel(\"$V$-Score\")\n",
    "\n",
    "plt.draw()\n",
    "plt.show()"
   ]
  },
  {
   "cell_type": "markdown",
   "metadata": {},
   "source": [
    "The distribution is slightly left skewed, which makes sense since the top $5000$ most popular movies are presumably well received. Keeping this in mind, let's use $65\\%$ as the threshold for a flop (credit at Sydney Uni!)."
   ]
  },
  {
   "cell_type": "code",
   "execution_count": 6,
   "metadata": {},
   "outputs": [
    {
     "data": {
      "text/plain": [
       "flop \n",
       "False    2621\n",
       "True     2379\n",
       "dtype: int64"
      ]
     },
     "execution_count": 6,
     "metadata": {},
     "output_type": "execute_result"
    }
   ],
   "source": [
    "raw_data[\"flop\"] = raw_data[\"v_score\"] < 0.65\n",
    "raw_data[[\"flop\"]].value_counts(sort=False)"
   ]
  },
  {
   "cell_type": "markdown",
   "metadata": {},
   "source": [
    "Visualise the split of flops to non-flops as well. "
   ]
  },
  {
   "cell_type": "code",
   "execution_count": 7,
   "metadata": {},
   "outputs": [
    {
     "data": {
      "image/png": "[encoded data removed]",
      "text/plain": [
       "<Figure size 432x288 with 1 Axes>"
      ]
     },
     "metadata": {},
     "output_type": "display_data"
    }
   ],
   "source": [
    "plt.figure(facecolor=\"white\")\n",
    "\n",
    "raw_data[[\"flop\"]].value_counts(sort=False).plot.bar()\n",
    "\n",
    "plt.title(\"Flops vs. Non-Flops\")\n",
    "plt.xticks(ticks=[0, 1], labels=[\"Non-Flop\", \"Flop\"])\n",
    "\n",
    "plt.draw()\n",
    "plt.show()"
   ]
  },
  {
   "cell_type": "markdown",
   "metadata": {},
   "source": [
    "# Data Preprocessing"
   ]
  },
  {
   "cell_type": "markdown",
   "metadata": {},
   "source": [
    "## Released Films Only\n",
    "We are only interested in released films. "
   ]
  },
  {
   "cell_type": "code",
   "execution_count": 8,
   "metadata": {},
   "outputs": [],
   "source": [
    "released_only = raw_data[raw_data[\"released\"] == True]"
   ]
  },
  {
   "cell_type": "markdown",
   "metadata": {},
   "source": [
    "## Zero Values\n",
    "\n",
    "As we did in `exploratory.ipynb`, we should remove films with zero `budget`, `revenue`, or `runtime`. Notice that one major flaw to our data is that we are missing a lot of `budget` and `revenue` values. "
   ]
  },
  {
   "cell_type": "code",
   "execution_count": 9,
   "metadata": {},
   "outputs": [
    {
     "data": {
      "text/plain": [
       "(2648, 26)"
      ]
     },
     "execution_count": 9,
     "metadata": {},
     "output_type": "execute_result"
    }
   ],
   "source": [
    "clean_budget = released_only[released_only[\"budget\"] != 0]\n",
    "clean_budget_and_revenue = clean_budget[clean_budget[\"revenue\"] != 0]\n",
    "data_zeroes_cleaned = clean_budget_and_revenue[clean_budget_and_revenue[\"runtime\"] != 0]\n",
    "\n",
    "data_zeroes_cleaned.shape\n"
   ]
  },
  {
   "cell_type": "markdown",
   "metadata": {},
   "source": [
    "We lost over half of our observations, but there aren't really other alternatives. "
   ]
  },
  {
   "cell_type": "markdown",
   "metadata": {},
   "source": [
    "## Feature Scaling\n",
    "\n",
    "It is good practice to ensure that all features are on the scale. In our dataset, `budget` and `revenue` will obviously be on a different scale to `runtime`. These are the only numerical features. "
   ]
  },
  {
   "cell_type": "code",
   "execution_count": 10,
   "metadata": {},
   "outputs": [
    {
     "data": {
      "image/png": "[encoded data removed]",
      "text/plain": [
       "<Figure size 432x288 with 1 Axes>"
      ]
     },
     "metadata": {},
     "output_type": "display_data"
    }
   ],
   "source": [
    "plt.figure(facecolor=\"white\")\n",
    "\n",
    "data_zeroes_cleaned[\"budget\"].hist(bins=50)\n",
    "\n",
    "plt.title(\"Histogram of Film Budgets\")\n",
    "plt.ylabel(\"Frequency\")\n",
    "plt.xlabel(\"Film Budgets (USD$100m)\")\n",
    "\n",
    "plt.draw()\n",
    "plt.show()"
   ]
  },
  {
   "cell_type": "code",
   "execution_count": 11,
   "metadata": {},
   "outputs": [
    {
     "data": {
      "image/png": "[encoded data removed]",
      "text/plain": [
       "<Figure size 432x288 with 1 Axes>"
      ]
     },
     "metadata": {},
     "output_type": "display_data"
    }
   ],
   "source": [
    "plt.figure(facecolor=\"white\")\n",
    "\n",
    "data_zeroes_cleaned[\"revenue\"].hist(bins=50)\n",
    "\n",
    "plt.title(\"Histogram of Film Revenues\")\n",
    "plt.ylabel(\"Frequency\")\n",
    "plt.xlabel(\"Film Revenues (USD$1B)\")\n",
    "\n",
    "plt.draw()\n",
    "plt.show()"
   ]
  },
  {
   "cell_type": "code",
   "execution_count": 12,
   "metadata": {},
   "outputs": [
    {
     "data": {
      "image/png": "[encoded data removed]",
      "text/plain": [
       "<Figure size 432x288 with 1 Axes>"
      ]
     },
     "metadata": {},
     "output_type": "display_data"
    }
   ],
   "source": [
    "plt.figure(facecolor=\"white\")\n",
    "\n",
    "data_zeroes_cleaned[\"runtime\"].hist(bins=50)\n",
    "\n",
    "plt.title(\"Histogram of Film Runtimes\")\n",
    "plt.ylabel(\"Frequency\")\n",
    "plt.xlabel(\"Film Runtimes (m)\")\n",
    "\n",
    "plt.draw()\n",
    "plt.show()\n"
   ]
  },
  {
   "cell_type": "code",
   "execution_count": 13,
   "metadata": {},
   "outputs": [
    {
     "name": "stderr",
     "output_type": "stream",
     "text": [
      "/var/folders/sg/rlk9vzs561n15bmvp6y81mxc0000gn/T/ipykernel_19113/1335140770.py:5: SettingWithCopyWarning: \n",
      "A value is trying to be set on a copy of a slice from a DataFrame.\n",
      "Try using .loc[row_indexer,col_indexer] = value instead\n",
      "\n",
      "See the caveats in the documentation: https://pandas.pydata.org/pandas-docs/stable/user_guide/indexing.html#returning-a-view-versus-a-copy\n",
      "  scaled_data[[\"budget\", \"revenue\", \"runtime\"]] = minmax_scaler.fit_transform(data_zeroes_cleaned[[\"budget\", \"revenue\", \"runtime\"]])\n"
     ]
    }
   ],
   "source": [
    "scaled_data = data_zeroes_cleaned\n",
    "\n",
    "minmax_scaler = preprocessing.MinMaxScaler()\n",
    "\n",
    "scaled_data[[\"budget\", \"revenue\", \"runtime\"]] = minmax_scaler.fit_transform(data_zeroes_cleaned[[\"budget\", \"revenue\", \"runtime\"]])"
   ]
  },
  {
   "cell_type": "code",
   "execution_count": 14,
   "metadata": {},
   "outputs": [
    {
     "data": {
      "text/html": [
       "<div>\n",
       "<style scoped>\n",
       "    .dataframe tbody tr th:only-of-type {\n",
       "        vertical-align: middle;\n",
       "    }\n",
       "\n",
       "    .dataframe tbody tr th {\n",
       "        vertical-align: top;\n",
       "    }\n",
       "\n",
       "    .dataframe thead th {\n",
       "        text-align: right;\n",
       "    }\n",
       "</style>\n",
       "<table border=\"1\" class=\"dataframe\">\n",
       "  <thead>\n",
       "    <tr style=\"text-align: right;\">\n",
       "      <th></th>\n",
       "      <th>budget</th>\n",
       "      <th>revenue</th>\n",
       "      <th>runtime</th>\n",
       "    </tr>\n",
       "  </thead>\n",
       "  <tbody>\n",
       "    <tr>\n",
       "      <th>count</th>\n",
       "      <td>2648.000000</td>\n",
       "      <td>2648.000000</td>\n",
       "      <td>2648.000000</td>\n",
       "    </tr>\n",
       "    <tr>\n",
       "      <th>mean</th>\n",
       "      <td>0.134054</td>\n",
       "      <td>0.062589</td>\n",
       "      <td>0.286576</td>\n",
       "    </tr>\n",
       "    <tr>\n",
       "      <th>std</th>\n",
       "      <td>0.141252</td>\n",
       "      <td>0.086021</td>\n",
       "      <td>0.110751</td>\n",
       "    </tr>\n",
       "    <tr>\n",
       "      <th>min</th>\n",
       "      <td>0.000000</td>\n",
       "      <td>0.000000</td>\n",
       "      <td>0.000000</td>\n",
       "    </tr>\n",
       "    <tr>\n",
       "      <th>25%</th>\n",
       "      <td>0.034737</td>\n",
       "      <td>0.011792</td>\n",
       "      <td>0.208333</td>\n",
       "    </tr>\n",
       "    <tr>\n",
       "      <th>50%</th>\n",
       "      <td>0.078947</td>\n",
       "      <td>0.033342</td>\n",
       "      <td>0.265625</td>\n",
       "    </tr>\n",
       "    <tr>\n",
       "      <th>75%</th>\n",
       "      <td>0.184210</td>\n",
       "      <td>0.076820</td>\n",
       "      <td>0.343750</td>\n",
       "    </tr>\n",
       "    <tr>\n",
       "      <th>max</th>\n",
       "      <td>1.000000</td>\n",
       "      <td>1.000000</td>\n",
       "      <td>1.000000</td>\n",
       "    </tr>\n",
       "  </tbody>\n",
       "</table>\n",
       "</div>"
      ],
      "text/plain": [
       "            budget      revenue      runtime\n",
       "count  2648.000000  2648.000000  2648.000000\n",
       "mean      0.134054     0.062589     0.286576\n",
       "std       0.141252     0.086021     0.110751\n",
       "min       0.000000     0.000000     0.000000\n",
       "25%       0.034737     0.011792     0.208333\n",
       "50%       0.078947     0.033342     0.265625\n",
       "75%       0.184210     0.076820     0.343750\n",
       "max       1.000000     1.000000     1.000000"
      ]
     },
     "execution_count": 14,
     "metadata": {},
     "output_type": "execute_result"
    }
   ],
   "source": [
    "scaled_data[[\"budget\", \"revenue\", \"runtime\"]].describe()"
   ]
  },
  {
   "cell_type": "markdown",
   "metadata": {},
   "source": [
    "## Dropping Obvious Features\n",
    "\n",
    "Recall that there are $23$ columns (features) in total in the dataset. Some of these may be irrelevant, others may be too complicated for this task, and some should not be used. Hence, the first step we perform in feature selection is dropping the columns we obviously will not be using. These include:\n",
    "\n",
    "- `imdb_id`: not relevant\n",
    "- `popularity`: not useful, popularity can only be calculated after the fact\n",
    "- `vote_count`, `vote_average`, `v_score`: used in definition of whether a film is a flop\n",
    "- `release_date`, `released`: not useful, we are already working with released films only\n",
    "- `overview`, `tagline`, `original_title`, `title`: too complicated, involves NLP, and can be proxied using `keywords`\n",
    "\n",
    "We drop the above columns."
   ]
  },
  {
   "cell_type": "code",
   "execution_count": 15,
   "metadata": {},
   "outputs": [
    {
     "data": {
      "text/html": [
       "<div>\n",
       "<style scoped>\n",
       "    .dataframe tbody tr th:only-of-type {\n",
       "        vertical-align: middle;\n",
       "    }\n",
       "\n",
       "    .dataframe tbody tr th {\n",
       "        vertical-align: top;\n",
       "    }\n",
       "\n",
       "    .dataframe thead th {\n",
       "        text-align: right;\n",
       "    }\n",
       "</style>\n",
       "<table border=\"1\" class=\"dataframe\">\n",
       "  <thead>\n",
       "    <tr style=\"text-align: right;\">\n",
       "      <th></th>\n",
       "      <th>adult</th>\n",
       "      <th>budget</th>\n",
       "      <th>genres</th>\n",
       "      <th>id</th>\n",
       "      <th>original_language</th>\n",
       "      <th>production_companies</th>\n",
       "      <th>production_countries</th>\n",
       "      <th>revenue</th>\n",
       "      <th>runtime</th>\n",
       "      <th>spoken_languages</th>\n",
       "      <th>keywords</th>\n",
       "      <th>cast</th>\n",
       "      <th>crew</th>\n",
       "      <th>flop</th>\n",
       "    </tr>\n",
       "  </thead>\n",
       "  <tbody>\n",
       "    <tr>\n",
       "      <th>0</th>\n",
       "      <td>False</td>\n",
       "      <td>0.526316</td>\n",
       "      <td>[Action, Adventure, Science Fiction]</td>\n",
       "      <td>634649</td>\n",
       "      <td>en</td>\n",
       "      <td>[Marvel Studios, Pascal Pictures, Columbia Pic...</td>\n",
       "      <td>[US]</td>\n",
       "      <td>0.659123</td>\n",
       "      <td>0.479167</td>\n",
       "      <td>[en, tl]</td>\n",
       "      <td>[new york city, hero, villain, comic book, seq...</td>\n",
       "      <td>[{'adult': False, 'gender': 2, 'id': 1136406, ...</td>\n",
       "      <td>[{'adult': False, 'gender': 1, 'id': 2519, 'kn...</td>\n",
       "      <td>False</td>\n",
       "    </tr>\n",
       "    <tr>\n",
       "      <th>1</th>\n",
       "      <td>False</td>\n",
       "      <td>0.486842</td>\n",
       "      <td>[Crime, Mystery, Thriller]</td>\n",
       "      <td>414906</td>\n",
       "      <td>en</td>\n",
       "      <td>[6th &amp; Idaho, Dylan Clark Productions, DC Film...</td>\n",
       "      <td>[US]</td>\n",
       "      <td>0.162690</td>\n",
       "      <td>0.625000</td>\n",
       "      <td>[en]</td>\n",
       "      <td>[dc comics, crime fighter, secret identity, vi...</td>\n",
       "      <td>[{'adult': False, 'gender': 2, 'id': 11288, 'k...</td>\n",
       "      <td>[{'adult': False, 'gender': 2, 'id': 2122, 'kn...</td>\n",
       "      <td>False</td>\n",
       "    </tr>\n",
       "    <tr>\n",
       "      <th>3</th>\n",
       "      <td>False</td>\n",
       "      <td>0.131579</td>\n",
       "      <td>[Animation, Comedy, Family, Fantasy]</td>\n",
       "      <td>568124</td>\n",
       "      <td>en</td>\n",
       "      <td>[Walt Disney Animation Studios, Walt Disney Pi...</td>\n",
       "      <td>[US]</td>\n",
       "      <td>0.084291</td>\n",
       "      <td>0.239583</td>\n",
       "      <td>[en, es]</td>\n",
       "      <td>[magic, musical, forest, family relationships,...</td>\n",
       "      <td>[{'adult': False, 'gender': 1, 'id': 968367, '...</td>\n",
       "      <td>[{'adult': False, 'gender': 0, 'id': 8159, 'kn...</td>\n",
       "      <td>False</td>\n",
       "    </tr>\n",
       "    <tr>\n",
       "      <th>6</th>\n",
       "      <td>False</td>\n",
       "      <td>0.263158</td>\n",
       "      <td>[Action, Adventure, Thriller, War]</td>\n",
       "      <td>476669</td>\n",
       "      <td>en</td>\n",
       "      <td>[Marv Films, Cloudy Productions, 20th Century ...</td>\n",
       "      <td>[GB, US]</td>\n",
       "      <td>0.043552</td>\n",
       "      <td>0.390625</td>\n",
       "      <td>[en]</td>\n",
       "      <td>[london, england, spy, world war i, based on c...</td>\n",
       "      <td>[{'adult': False, 'gender': 2, 'id': 5469, 'kn...</td>\n",
       "      <td>[{'adult': False, 'gender': 2, 'id': 497, 'kno...</td>\n",
       "      <td>False</td>\n",
       "    </tr>\n",
       "    <tr>\n",
       "      <th>8</th>\n",
       "      <td>False</td>\n",
       "      <td>0.063158</td>\n",
       "      <td>[Horror, Mystery, Thriller]</td>\n",
       "      <td>646385</td>\n",
       "      <td>en</td>\n",
       "      <td>[Paramount, Spyglass Entertainment, Project X ...</td>\n",
       "      <td>[US]</td>\n",
       "      <td>0.048374</td>\n",
       "      <td>0.302083</td>\n",
       "      <td>[en]</td>\n",
       "      <td>[attempted murder, mask, hallucination, murder...</td>\n",
       "      <td>[{'adult': False, 'gender': 1, 'id': 9206, 'kn...</td>\n",
       "      <td>[{'adult': False, 'gender': 1, 'id': 409, 'kno...</td>\n",
       "      <td>False</td>\n",
       "    </tr>\n",
       "  </tbody>\n",
       "</table>\n",
       "</div>"
      ],
      "text/plain": [
       "   adult    budget                                genres      id  \\\n",
       "0  False  0.526316  [Action, Adventure, Science Fiction]  634649   \n",
       "1  False  0.486842            [Crime, Mystery, Thriller]  414906   \n",
       "3  False  0.131579  [Animation, Comedy, Family, Fantasy]  568124   \n",
       "6  False  0.263158    [Action, Adventure, Thriller, War]  476669   \n",
       "8  False  0.063158           [Horror, Mystery, Thriller]  646385   \n",
       "\n",
       "  original_language                               production_companies  \\\n",
       "0                en  [Marvel Studios, Pascal Pictures, Columbia Pic...   \n",
       "1                en  [6th & Idaho, Dylan Clark Productions, DC Film...   \n",
       "3                en  [Walt Disney Animation Studios, Walt Disney Pi...   \n",
       "6                en  [Marv Films, Cloudy Productions, 20th Century ...   \n",
       "8                en  [Paramount, Spyglass Entertainment, Project X ...   \n",
       "\n",
       "  production_countries   revenue   runtime spoken_languages  \\\n",
       "0                 [US]  0.659123  0.479167         [en, tl]   \n",
       "1                 [US]  0.162690  0.625000             [en]   \n",
       "3                 [US]  0.084291  0.239583         [en, es]   \n",
       "6             [GB, US]  0.043552  0.390625             [en]   \n",
       "8                 [US]  0.048374  0.302083             [en]   \n",
       "\n",
       "                                            keywords  \\\n",
       "0  [new york city, hero, villain, comic book, seq...   \n",
       "1  [dc comics, crime fighter, secret identity, vi...   \n",
       "3  [magic, musical, forest, family relationships,...   \n",
       "6  [london, england, spy, world war i, based on c...   \n",
       "8  [attempted murder, mask, hallucination, murder...   \n",
       "\n",
       "                                                cast  \\\n",
       "0  [{'adult': False, 'gender': 2, 'id': 1136406, ...   \n",
       "1  [{'adult': False, 'gender': 2, 'id': 11288, 'k...   \n",
       "3  [{'adult': False, 'gender': 1, 'id': 968367, '...   \n",
       "6  [{'adult': False, 'gender': 2, 'id': 5469, 'kn...   \n",
       "8  [{'adult': False, 'gender': 1, 'id': 9206, 'kn...   \n",
       "\n",
       "                                                crew   flop  \n",
       "0  [{'adult': False, 'gender': 1, 'id': 2519, 'kn...  False  \n",
       "1  [{'adult': False, 'gender': 2, 'id': 2122, 'kn...  False  \n",
       "3  [{'adult': False, 'gender': 0, 'id': 8159, 'kn...  False  \n",
       "6  [{'adult': False, 'gender': 2, 'id': 497, 'kno...  False  \n",
       "8  [{'adult': False, 'gender': 1, 'id': 409, 'kno...  False  "
      ]
     },
     "execution_count": 15,
     "metadata": {},
     "output_type": "execute_result"
    }
   ],
   "source": [
    "data_obv_dropped = scaled_data.drop(columns=[\"imdb_id\", \"popularity\", \"vote_count\", \"vote_average\", \"overview\", \"tagline\", \"original_title\", \"title\", \"v_score\", \"release_date\", \"released\", \"status\"])\n",
    "data_obv_dropped.head()"
   ]
  },
  {
   "cell_type": "markdown",
   "metadata": {},
   "source": [
    "### Too Many Missing Values\n"
   ]
  },
  {
   "cell_type": "code",
   "execution_count": 16,
   "metadata": {},
   "outputs": [
    {
     "data": {
      "text/plain": [
       "adult                   0\n",
       "budget                  0\n",
       "genres                  0\n",
       "id                      0\n",
       "original_language       0\n",
       "production_companies    0\n",
       "production_countries    0\n",
       "revenue                 0\n",
       "runtime                 0\n",
       "spoken_languages        0\n",
       "keywords                0\n",
       "cast                    0\n",
       "crew                    0\n",
       "flop                    0\n",
       "dtype: int64"
      ]
     },
     "execution_count": 16,
     "metadata": {},
     "output_type": "execute_result"
    }
   ],
   "source": [
    "data_obv_dropped.isna().sum()"
   ]
  },
  {
   "cell_type": "code",
   "execution_count": 17,
   "metadata": {},
   "outputs": [
    {
     "data": {
      "image/png": "[encoded data removed]",
      "text/plain": [
       "<Figure size 432x288 with 1 Axes>"
      ]
     },
     "metadata": {},
     "output_type": "display_data"
    }
   ],
   "source": [
    "plt.figure(facecolor=\"white\")\n",
    "\n",
    "(data_obv_dropped.isna().sum() / data_obv_dropped.count()).plot.bar()\n",
    "\n",
    "plt.title(\"Proportion of Missing values\")\n",
    "plt.ylabel(\"Missing Values (Proportion)\")\n",
    "plt.xlabel(\"Feature\")\n",
    "\n",
    "plt.ylim(0, 0.01)\n",
    "\n",
    "plt.draw()\n",
    "plt.show()"
   ]
  },
  {
   "cell_type": "markdown",
   "metadata": {},
   "source": [
    "### Too Little Variance\n",
    "Features that do not vary much are not very useful to prediction either. Clearly, this criterion applies only to the numerical columns. "
   ]
  },
  {
   "cell_type": "code",
   "execution_count": 18,
   "metadata": {},
   "outputs": [
    {
     "data": {
      "image/png": "[encoded data removed]",
      "text/plain": [
       "<Figure size 432x288 with 1 Axes>"
      ]
     },
     "metadata": {},
     "output_type": "display_data"
    }
   ],
   "source": [
    "plt.figure(facecolor=\"white\")\n",
    "\n",
    "data_obv_dropped[[\"budget\", \"revenue\", \"runtime\"]].var().plot.bar()\n",
    "\n",
    "plt.title(\"Variance of Numerical Feature\")\n",
    "plt.ylabel(\"Variance\")\n",
    "plt.xlabel(\"Feature\")\n",
    "\n",
    "plt.draw()\n",
    "plt.show()"
   ]
  },
  {
   "cell_type": "markdown",
   "metadata": {},
   "source": [
    "We check for pairwise correlation between the numerical columns"
   ]
  },
  {
   "cell_type": "code",
   "execution_count": 19,
   "metadata": {},
   "outputs": [
    {
     "data": {
      "image/png": "[encoded data removed]",
      "text/plain": [
       "<Figure size 432x288 with 2 Axes>"
      ]
     },
     "metadata": {},
     "output_type": "display_data"
    }
   ],
   "source": [
    "numerical_cols = [\"budget\", \"revenue\", \"runtime\"]\n",
    "\n",
    "# # visualise\n",
    "fig = plt.figure(facecolor=\"white\")\n",
    "sb.heatmap(data_obv_dropped[numerical_cols].corr(), cmap=\"Blues\")\n",
    "\n",
    "plt.title(\"Correlation Matrix\")\n",
    "\n",
    "plt.show()\n"
   ]
  },
  {
   "cell_type": "markdown",
   "metadata": {},
   "source": [
    "## Feature Engineering\n",
    "\n",
    "There are some features which need to be transformed or reshaped so that we can make predictions."
   ]
  },
  {
   "cell_type": "code",
   "execution_count": 20,
   "metadata": {},
   "outputs": [
    {
     "name": "stdout",
     "output_type": "stream",
     "text": [
      "<class 'pandas.core.frame.DataFrame'>\n",
      "Int64Index: 2648 entries, 0 to 4998\n",
      "Data columns (total 14 columns):\n",
      " #   Column                Non-Null Count  Dtype  \n",
      "---  ------                --------------  -----  \n",
      " 0   adult                 2648 non-null   bool   \n",
      " 1   budget                2648 non-null   float64\n",
      " 2   genres                2648 non-null   object \n",
      " 3   id                    2648 non-null   int64  \n",
      " 4   original_language     2648 non-null   object \n",
      " 5   production_companies  2648 non-null   object \n",
      " 6   production_countries  2648 non-null   object \n",
      " 7   revenue               2648 non-null   float64\n",
      " 8   runtime               2648 non-null   float64\n",
      " 9   spoken_languages      2648 non-null   object \n",
      " 10  keywords              2648 non-null   object \n",
      " 11  cast                  2648 non-null   object \n",
      " 12  crew                  2648 non-null   object \n",
      " 13  flop                  2648 non-null   bool   \n",
      "dtypes: bool(2), float64(3), int64(1), object(8)\n",
      "memory usage: 274.1+ KB\n"
     ]
    }
   ],
   "source": [
    "training_data = data_obv_dropped\n",
    "training_data.info()"
   ]
  },
  {
   "cell_type": "markdown",
   "metadata": {},
   "source": [
    "### Binarisation\n",
    "We need to convert boolean features (True, False) to binary (0, 1). The code is simple and built into `pandas`. The only boolean features are `adult` and `flop`. "
   ]
  },
  {
   "cell_type": "code",
   "execution_count": 21,
   "metadata": {},
   "outputs": [
    {
     "data": {
      "text/plain": [
       "adult  flop\n",
       "0      0       1440\n",
       "       1       1208\n",
       "dtype: int64"
      ]
     },
     "execution_count": 21,
     "metadata": {},
     "output_type": "execute_result"
    }
   ],
   "source": [
    "training_data[[\"adult\", \"flop\"]] = training_data[[\"adult\", \"flop\"]].replace({True: 1, False: 0})\n",
    "training_data[[\"adult\", \"flop\"]].value_counts()"
   ]
  },
  {
   "cell_type": "markdown",
   "metadata": {},
   "source": [
    "### One Hot Encoding\n",
    "Categorical features will need to be one hot encoded. We already wrote the code to one hot encode categorical features. The categorical features are `genres`, `original_language`, `production_companies`, `production_countries`, `spoken_languages`, and `keywords`. However, the large number of unique labels in each of these categorical features will result in an untractable number of one-hot encoded columns. Hence, we need an alternative. \n",
    "\n",
    "A standard approach is the \"top $\\rho$ most frequent labels\". The original authors used top $10$ most frequent, but we use $\\rho$ so that this can be a hyperparameter to be tuned in the optimisation stage. \n",
    "\n",
    "https://youtu.be/6WDFfaYtN6s\n"
   ]
  },
  {
   "cell_type": "code",
   "execution_count": 30,
   "metadata": {},
   "outputs": [
    {
     "name": "stdout",
     "output_type": "stream",
     "text": [
      "genres: 19 labels\n",
      "original_language: 23 labels\n",
      "production_companies: 3233 labels\n",
      "production_countries: 59 labels\n",
      "spoken_languages: 78 labels\n",
      "keywords: 7770 labels\n"
     ]
    }
   ],
   "source": [
    "ohe_cols = [\"genres\", \"original_language\", \"production_companies\", \"production_countries\", \"spoken_languages\", \"keywords\"]\n",
    "\n",
    "for col in ohe_cols:\n",
    "    flat_training_data = flatten(training_data, [col])\n",
    "    print(\"{}: {} labels\".format(col, len(flat_training_data[col].unique())))\n"
   ]
  },
  {
   "cell_type": "code",
   "execution_count": null,
   "metadata": {},
   "outputs": [],
   "source": [
    "flatten(training_data, [\"original_language\"])[\"original_language\"].value_counts()"
   ]
  },
  {
   "cell_type": "markdown",
   "metadata": {},
   "source": [
    "### People Columns\n"
   ]
  },
  {
   "cell_type": "code",
   "execution_count": null,
   "metadata": {},
   "outputs": [],
   "source": []
  }
 ],
 "metadata": {
  "interpreter": {
   "hash": "548ecb9cc1a8bd577fb56c501c984fd28fd165b2e93a82ac6f523e110f709c6c"
  },
  "kernelspec": {
   "display_name": "Python 3.9.10 64-bit ('shims': pyenv)",
   "language": "python",
   "name": "python3"
  },
  "language_info": {
   "codemirror_mode": {
    "name": "ipython",
    "version": 3
   },
   "file_extension": ".py",
   "mimetype": "text/x-python",
   "name": "python",
   "nbconvert_exporter": "python",
   "pygments_lexer": "ipython3",
   "version": "3.10.2"
  },
  "orig_nbformat": 4
 },
 "nbformat": 4,
 "nbformat_minor": 2
}
