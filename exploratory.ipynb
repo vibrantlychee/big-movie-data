{
 "cells": [
  {
   "cell_type": "markdown",
   "metadata": {},
   "source": [
    "# Exploratory Data Analysis\n",
    "\n",
    "## Setup\n",
    "Import the relevant packages.\n"
   ]
  },
  {
   "cell_type": "code",
   "execution_count": 2,
   "metadata": {},
   "outputs": [],
   "source": [
    "import numpy as np\n",
    "import scipy as sp\n",
    "import pandas as pd"
   ]
  },
  {
   "cell_type": "markdown",
   "metadata": {},
   "source": [
    "We have two data files, `tmdb_5000_credits.csv` and `tmdb_5000_movies.csv`. The \n",
    "data files can all be found in the directory `raw-data`. For simplicity, we \n",
    "refer to the files as `credits.csv` and `movies.csv` respectively. \n",
    "\n",
    "We first look at what type of data we are dealing with. Let's load in the \n",
    "datasets and look at what columns are present, and the number of data points \n",
    "we have."
   ]
  },
  {
   "cell_type": "code",
   "execution_count": 7,
   "metadata": {},
   "outputs": [
    {
     "name": "stdout",
     "output_type": "stream",
     "text": [
      "['budget', 'genres', 'homepage', 'id', 'keywords', 'original_language', 'original_title', 'overview', 'popularity', 'production_companies', 'production_countries', 'release_date', 'revenue', 'runtime', 'spoken_languages', 'status', 'tagline', 'title', 'vote_average', 'vote_count']\n",
      "['movie_id', 'title', 'cast', 'crew']\n"
     ]
    }
   ],
   "source": [
    "# load in csv as dataframes\n",
    "movies = pd.read_csv(\"raw-data/tmdb_5000_movies.csv\")\n",
    "credits = pd.read_csv(\"raw-data/tmdb_5000_credits.csv\")\n",
    "\n",
    "# print column names in movies\n",
    "print(\"The columns in movies.csv: \".format(list(movies.columns)))\n",
    "\n",
    "# print column names in credits\n",
    "print(list(credits.columns))"
   ]
  },
  {
   "cell_type": "code",
   "execution_count": null,
   "metadata": {},
   "outputs": [],
   "source": []
  }
 ],
 "metadata": {
  "interpreter": {
   "hash": "4f02c88996a32810cd2ce8d40e0f1464503643c2f5f1f4ae02dfcb0942fbc74d"
  },
  "kernelspec": {
   "display_name": "Python 3.10.2 64-bit ('3.10.2')",
   "language": "python",
   "name": "python3"
  },
  "language_info": {
   "codemirror_mode": {
    "name": "ipython",
    "version": 3
   },
   "file_extension": ".py",
   "mimetype": "text/x-python",
   "name": "python",
   "nbconvert_exporter": "python",
   "pygments_lexer": "ipython3",
   "version": "3.10.2"
  },
  "orig_nbformat": 4
 },
 "nbformat": 4,
 "nbformat_minor": 2
}
