{
 "cells": [
  {
   "cell_type": "markdown",
   "metadata": {},
   "source": [
    "# Exploratory Data Analysis"
   ]
  },
  {
   "cell_type": "markdown",
   "metadata": {},
   "source": [
    "### Setup\n",
    "Load the relevant packages."
   ]
  },
  {
   "cell_type": "code",
   "execution_count": 153,
   "metadata": {},
   "outputs": [],
   "source": [
    "import pandas as pd\n",
    "from cleaning_tools import flatten, one_hot\n",
    "\n",
    "# print floats more nicely\n",
    "pd.set_option('display.float_format', '{:.2f}'.format)\n",
    "# pd.set_option('display.float_format', lambda x: f'%.{len(str(x%1))-2}f' % x)"
   ]
  },
  {
   "cell_type": "markdown",
   "metadata": {},
   "source": [
    "Read in data."
   ]
  },
  {
   "cell_type": "code",
   "execution_count": 154,
   "metadata": {},
   "outputs": [],
   "source": [
    "%store -r raw_data"
   ]
  },
  {
   "cell_type": "markdown",
   "metadata": {},
   "source": [
    "### Data Description\n",
    "We look at the number of movies in the data, number of columns, and data types."
   ]
  },
  {
   "cell_type": "code",
   "execution_count": 155,
   "metadata": {},
   "outputs": [
    {
     "data": {
      "text/plain": [
       "(5000, 23)"
      ]
     },
     "execution_count": 155,
     "metadata": {},
     "output_type": "execute_result"
    }
   ],
   "source": [
    "# number of observations and columns\n",
    "raw_data.shape"
   ]
  },
  {
   "cell_type": "code",
   "execution_count": 156,
   "metadata": {},
   "outputs": [
    {
     "name": "stdout",
     "output_type": "stream",
     "text": [
      "<class 'pandas.core.frame.DataFrame'>\n",
      "RangeIndex: 5000 entries, 0 to 4999\n",
      "Data columns (total 23 columns):\n",
      " #   Column                Non-Null Count  Dtype         \n",
      "---  ------                --------------  -----         \n",
      " 0   adult                 5000 non-null   bool          \n",
      " 1   budget                5000 non-null   int64         \n",
      " 2   genres                5000 non-null   object        \n",
      " 3   id                    5000 non-null   int64         \n",
      " 4   imdb_id               4938 non-null   object        \n",
      " 5   original_language     5000 non-null   object        \n",
      " 6   original_title        5000 non-null   object        \n",
      " 7   overview              4963 non-null   object        \n",
      " 8   popularity            5000 non-null   float64       \n",
      " 9   production_companies  5000 non-null   object        \n",
      " 10  production_countries  5000 non-null   object        \n",
      " 11  release_date          4980 non-null   datetime64[ns]\n",
      " 12  revenue               5000 non-null   int64         \n",
      " 13  runtime               4999 non-null   float64       \n",
      " 14  spoken_languages      5000 non-null   object        \n",
      " 15  status                4949 non-null   object        \n",
      " 16  tagline               3750 non-null   object        \n",
      " 17  title                 5000 non-null   object        \n",
      " 18  vote_average          5000 non-null   float64       \n",
      " 19  vote_count            5000 non-null   int64         \n",
      " 20  keywords              5000 non-null   object        \n",
      " 21  cast                  5000 non-null   object        \n",
      " 22  crew                  5000 non-null   object        \n",
      "dtypes: bool(1), datetime64[ns](1), float64(3), int64(4), object(14)\n",
      "memory usage: 864.4+ KB\n"
     ]
    }
   ],
   "source": [
    "# information on columns\n",
    "raw_data.info()"
   ]
  },
  {
   "cell_type": "markdown",
   "metadata": {},
   "source": [
    "### Summary Statistics\n",
    "It would be interesting to see the summary statistics for the numerical columns `budget`, `revenue`, `runtime`, `vote_average`, and `vote_count`. \n",
    "\n",
    "Note we do not include `popularity` as it is a popularity metric on the TMDB website only, which has a far smaller userbase than than e.g. IMDB or Letterbox. "
   ]
  },
  {
   "cell_type": "code",
   "execution_count": 157,
   "metadata": {},
   "outputs": [
    {
     "data": {
      "text/html": [
       "<div>\n",
       "<style scoped>\n",
       "    .dataframe tbody tr th:only-of-type {\n",
       "        vertical-align: middle;\n",
       "    }\n",
       "\n",
       "    .dataframe tbody tr th {\n",
       "        vertical-align: top;\n",
       "    }\n",
       "\n",
       "    .dataframe thead th {\n",
       "        text-align: right;\n",
       "    }\n",
       "</style>\n",
       "<table border=\"1\" class=\"dataframe\">\n",
       "  <thead>\n",
       "    <tr style=\"text-align: right;\">\n",
       "      <th></th>\n",
       "      <th>budget</th>\n",
       "      <th>revenue</th>\n",
       "    </tr>\n",
       "  </thead>\n",
       "  <tbody>\n",
       "    <tr>\n",
       "      <th>count</th>\n",
       "      <td>5000.00</td>\n",
       "      <td>5000.00</td>\n",
       "    </tr>\n",
       "    <tr>\n",
       "      <th>mean</th>\n",
       "      <td>28183016.52</td>\n",
       "      <td>95756509.60</td>\n",
       "    </tr>\n",
       "    <tr>\n",
       "      <th>std</th>\n",
       "      <td>47092793.24</td>\n",
       "      <td>198856725.48</td>\n",
       "    </tr>\n",
       "    <tr>\n",
       "      <th>min</th>\n",
       "      <td>0.00</td>\n",
       "      <td>0.00</td>\n",
       "    </tr>\n",
       "    <tr>\n",
       "      <th>25%</th>\n",
       "      <td>0.00</td>\n",
       "      <td>0.00</td>\n",
       "    </tr>\n",
       "    <tr>\n",
       "      <th>50%</th>\n",
       "      <td>5500000.00</td>\n",
       "      <td>11251443.50</td>\n",
       "    </tr>\n",
       "    <tr>\n",
       "      <th>75%</th>\n",
       "      <td>35000000.00</td>\n",
       "      <td>104419265.00</td>\n",
       "    </tr>\n",
       "    <tr>\n",
       "      <th>max</th>\n",
       "      <td>380000000.00</td>\n",
       "      <td>2847246203.00</td>\n",
       "    </tr>\n",
       "  </tbody>\n",
       "</table>\n",
       "</div>"
      ],
      "text/plain": [
       "            budget       revenue\n",
       "count      5000.00       5000.00\n",
       "mean   28183016.52   95756509.60\n",
       "std    47092793.24  198856725.48\n",
       "min           0.00          0.00\n",
       "25%           0.00          0.00\n",
       "50%     5500000.00   11251443.50\n",
       "75%    35000000.00  104419265.00\n",
       "max   380000000.00 2847246203.00"
      ]
     },
     "execution_count": 157,
     "metadata": {},
     "output_type": "execute_result"
    }
   ],
   "source": [
    "financial_cols = [\"budget\", \"revenue\"]\n",
    "vote_cols = [\"vote_average\", \"vote_count\"] \n",
    "\n",
    "raw_data[financial_cols].describe()"
   ]
  },
  {
   "cell_type": "code",
   "execution_count": 158,
   "metadata": {},
   "outputs": [
    {
     "data": {
      "text/html": [
       "<div>\n",
       "<style scoped>\n",
       "    .dataframe tbody tr th:only-of-type {\n",
       "        vertical-align: middle;\n",
       "    }\n",
       "\n",
       "    .dataframe tbody tr th {\n",
       "        vertical-align: top;\n",
       "    }\n",
       "\n",
       "    .dataframe thead th {\n",
       "        text-align: right;\n",
       "    }\n",
       "</style>\n",
       "<table border=\"1\" class=\"dataframe\">\n",
       "  <thead>\n",
       "    <tr style=\"text-align: right;\">\n",
       "      <th></th>\n",
       "      <th>vote_average</th>\n",
       "      <th>vote_count</th>\n",
       "    </tr>\n",
       "  </thead>\n",
       "  <tbody>\n",
       "    <tr>\n",
       "      <th>count</th>\n",
       "      <td>5000.00</td>\n",
       "      <td>5000.00</td>\n",
       "    </tr>\n",
       "    <tr>\n",
       "      <th>mean</th>\n",
       "      <td>6.50</td>\n",
       "      <td>2195.85</td>\n",
       "    </tr>\n",
       "    <tr>\n",
       "      <th>std</th>\n",
       "      <td>1.24</td>\n",
       "      <td>3397.82</td>\n",
       "    </tr>\n",
       "    <tr>\n",
       "      <th>min</th>\n",
       "      <td>0.00</td>\n",
       "      <td>0.00</td>\n",
       "    </tr>\n",
       "    <tr>\n",
       "      <th>25%</th>\n",
       "      <td>6.00</td>\n",
       "      <td>186.00</td>\n",
       "    </tr>\n",
       "    <tr>\n",
       "      <th>50%</th>\n",
       "      <td>6.60</td>\n",
       "      <td>867.50</td>\n",
       "    </tr>\n",
       "    <tr>\n",
       "      <th>75%</th>\n",
       "      <td>7.20</td>\n",
       "      <td>2707.25</td>\n",
       "    </tr>\n",
       "    <tr>\n",
       "      <th>max</th>\n",
       "      <td>10.00</td>\n",
       "      <td>31119.00</td>\n",
       "    </tr>\n",
       "  </tbody>\n",
       "</table>\n",
       "</div>"
      ],
      "text/plain": [
       "       vote_average  vote_count\n",
       "count       5000.00     5000.00\n",
       "mean           6.50     2195.85\n",
       "std            1.24     3397.82\n",
       "min            0.00        0.00\n",
       "25%            6.00      186.00\n",
       "50%            6.60      867.50\n",
       "75%            7.20     2707.25\n",
       "max           10.00    31119.00"
      ]
     },
     "execution_count": 158,
     "metadata": {},
     "output_type": "execute_result"
    }
   ],
   "source": [
    "raw_data[vote_cols].describe()"
   ]
  },
  {
   "cell_type": "code",
   "execution_count": 159,
   "metadata": {},
   "outputs": [
    {
     "data": {
      "text/plain": [
       "count   4999.00\n",
       "mean     100.66\n",
       "std       28.45\n",
       "min        0.00\n",
       "25%       90.00\n",
       "50%      100.00\n",
       "75%      115.00\n",
       "max      248.00\n",
       "Name: runtime, dtype: float64"
      ]
     },
     "execution_count": 159,
     "metadata": {},
     "output_type": "execute_result"
    }
   ],
   "source": [
    "raw_data[\"runtime\"].describe()"
   ]
  },
  {
   "cell_type": "markdown",
   "metadata": {},
   "source": [
    "### Distribution of Genres"
   ]
  },
  {
   "cell_type": "code",
   "execution_count": 165,
   "metadata": {},
   "outputs": [],
   "source": [
    "genres_flat = flatten(raw_data, \"genres\")"
   ]
  },
  {
   "cell_type": "code",
   "execution_count": 168,
   "metadata": {},
   "outputs": [
    {
     "data": {
      "text/plain": [
       "Action             1637\n",
       "Drama              1549\n",
       "Comedy             1462\n",
       "Thriller           1272\n",
       "Adventure          1150\n",
       "Animation           982\n",
       "Family              855\n",
       "Fantasy             829\n",
       "Science Fiction     792\n",
       "Horror              783\n",
       "Romance             629\n",
       "Crime               570\n",
       "Mystery             396\n",
       "History             170\n",
       "War                 138\n",
       "Music               113\n",
       "TV Movie             92\n",
       "Documentary          87\n",
       "Western              51\n",
       "Name: genres_name, dtype: int64"
      ]
     },
     "execution_count": 168,
     "metadata": {},
     "output_type": "execute_result"
    }
   ],
   "source": [
    "genres_flat[\"genres_name\"].value_counts()"
   ]
  },
  {
   "cell_type": "markdown",
   "metadata": {},
   "source": [
    "### Award for Most Hardworking\n",
    "For some models, it may be preferable to recategorise cast and crew data into top 10 vs else. For example, it might make more sense to separate casts into top 10 most commonly occurring actors and an additional category for all others. \n",
    "\n",
    "Here we see who the most 'hardworking' cast and crew members are on a "
   ]
  },
  {
   "cell_type": "code",
   "execution_count": null,
   "metadata": {},
   "outputs": [],
   "source": []
  },
  {
   "cell_type": "markdown",
   "metadata": {},
   "source": [
    "### Unoriginality of Movies\n",
    "People often complain that movies are becoming more and more similar and that studios are pushing out more and more remakes. Might movies be getting more similar? \n",
    "\n",
    "Let's look at the distribution and similarity of keywords and taglines in our dataset. "
   ]
  },
  {
   "cell_type": "code",
   "execution_count": null,
   "metadata": {},
   "outputs": [],
   "source": []
  },
  {
   "cell_type": "markdown",
   "metadata": {},
   "source": []
  }
 ],
 "metadata": {
  "language_info": {
   "name": "python"
  },
  "orig_nbformat": 4
 },
 "nbformat": 4,
 "nbformat_minor": 2
}
