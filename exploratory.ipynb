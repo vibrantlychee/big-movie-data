{
 "cells": [
  {
   "cell_type": "markdown",
   "metadata": {},
   "source": [
    "# Exploratory Data Analysis\n",
    "\n",
    "## Setup\n",
    "Import the relevant packages.\n"
   ]
  },
  {
   "cell_type": "code",
   "execution_count": 71,
   "metadata": {},
   "outputs": [],
   "source": [
    "import ast\n",
    "import pandas as pd"
   ]
  },
  {
   "cell_type": "markdown",
   "metadata": {},
   "source": [
    "We have a single file `20220310.csv`. Let's first look at what type of data we \n",
    "are dealing with. "
   ]
  },
  {
   "cell_type": "code",
   "execution_count": 72,
   "metadata": {},
   "outputs": [
    {
     "name": "stdout",
     "output_type": "stream",
     "text": [
      "<class 'pandas.core.frame.DataFrame'>\n",
      "RangeIndex: 5000 entries, 0 to 4999\n",
      "Data columns (total 27 columns):\n",
      " #   Column                 Non-Null Count  Dtype  \n",
      "---  ------                 --------------  -----  \n",
      " 0   adult                  5000 non-null   bool   \n",
      " 1   backdrop_path          4874 non-null   object \n",
      " 2   belongs_to_collection  1742 non-null   object \n",
      " 3   budget                 5000 non-null   int64  \n",
      " 4   genres                 5000 non-null   object \n",
      " 5   homepage               2418 non-null   object \n",
      " 6   id                     5000 non-null   int64  \n",
      " 7   imdb_id                4938 non-null   object \n",
      " 8   original_language      5000 non-null   object \n",
      " 9   original_title         5000 non-null   object \n",
      " 10  overview               4963 non-null   object \n",
      " 11  popularity             5000 non-null   float64\n",
      " 12  poster_path            4995 non-null   object \n",
      " 13  production_companies   5000 non-null   object \n",
      " 14  production_countries   5000 non-null   object \n",
      " 15  release_date           4980 non-null   object \n",
      " 16  revenue                5000 non-null   int64  \n",
      " 17  runtime                4999 non-null   float64\n",
      " 18  spoken_languages       5000 non-null   object \n",
      " 19  status                 5000 non-null   object \n",
      " 20  tagline                3750 non-null   object \n",
      " 21  title                  5000 non-null   object \n",
      " 22  video                  5000 non-null   bool   \n",
      " 23  vote_average           5000 non-null   float64\n",
      " 24  vote_count             5000 non-null   int64  \n",
      " 25  credits                5000 non-null   object \n",
      " 26  keywords               5000 non-null   object \n",
      "dtypes: bool(2), float64(3), int64(4), object(18)\n",
      "memory usage: 986.5+ KB\n"
     ]
    }
   ],
   "source": [
    "# load in csv as dataframes\n",
    "# lineterminator option is used as there are some line separation issues.\n",
    "raw_data = pd.read_csv(\"raw-data/20220310.csv\", lineterminator=\"\\n\")\n",
    "\n",
    "# get summary information on the data frame, including columns and data types\n",
    "raw_data.info()"
   ]
  },
  {
   "cell_type": "markdown",
   "metadata": {},
   "source": [
    "Let's also look at the first few rows to see what we are dealing with. "
   ]
  },
  {
   "cell_type": "code",
   "execution_count": 73,
   "metadata": {},
   "outputs": [
    {
     "data": {
      "text/html": [
       "<div>\n",
       "<style scoped>\n",
       "    .dataframe tbody tr th:only-of-type {\n",
       "        vertical-align: middle;\n",
       "    }\n",
       "\n",
       "    .dataframe tbody tr th {\n",
       "        vertical-align: top;\n",
       "    }\n",
       "\n",
       "    .dataframe thead th {\n",
       "        text-align: right;\n",
       "    }\n",
       "</style>\n",
       "<table border=\"1\" class=\"dataframe\">\n",
       "  <thead>\n",
       "    <tr style=\"text-align: right;\">\n",
       "      <th></th>\n",
       "      <th>0</th>\n",
       "    </tr>\n",
       "  </thead>\n",
       "  <tbody>\n",
       "    <tr>\n",
       "      <th>adult</th>\n",
       "      <td>False</td>\n",
       "    </tr>\n",
       "    <tr>\n",
       "      <th>backdrop_path</th>\n",
       "      <td>/iQFcwSGbZXMkeyKrxbPnwnRo5fl.jpg</td>\n",
       "    </tr>\n",
       "    <tr>\n",
       "      <th>belongs_to_collection</th>\n",
       "      <td>{'id': 531241, 'name': 'Spider-Man (Avengers) ...</td>\n",
       "    </tr>\n",
       "    <tr>\n",
       "      <th>budget</th>\n",
       "      <td>200000000</td>\n",
       "    </tr>\n",
       "    <tr>\n",
       "      <th>genres</th>\n",
       "      <td>[{'id': 28, 'name': 'Action'}, {'id': 12, 'nam...</td>\n",
       "    </tr>\n",
       "    <tr>\n",
       "      <th>homepage</th>\n",
       "      <td>https://www.spidermannowayhome.movie</td>\n",
       "    </tr>\n",
       "    <tr>\n",
       "      <th>id</th>\n",
       "      <td>634649</td>\n",
       "    </tr>\n",
       "    <tr>\n",
       "      <th>imdb_id</th>\n",
       "      <td>tt10872600</td>\n",
       "    </tr>\n",
       "    <tr>\n",
       "      <th>original_language</th>\n",
       "      <td>en</td>\n",
       "    </tr>\n",
       "    <tr>\n",
       "      <th>original_title</th>\n",
       "      <td>Spider-Man: No Way Home</td>\n",
       "    </tr>\n",
       "    <tr>\n",
       "      <th>overview</th>\n",
       "      <td>Peter Parker is unmasked and no longer able to...</td>\n",
       "    </tr>\n",
       "    <tr>\n",
       "      <th>popularity</th>\n",
       "      <td>10552.154</td>\n",
       "    </tr>\n",
       "    <tr>\n",
       "      <th>poster_path</th>\n",
       "      <td>/1g0dhYtq4irTY1GPXvft6k4YLjm.jpg</td>\n",
       "    </tr>\n",
       "    <tr>\n",
       "      <th>production_companies</th>\n",
       "      <td>[{'id': 420, 'logo_path': '/hUzeosd33nzE5MCNsZ...</td>\n",
       "    </tr>\n",
       "    <tr>\n",
       "      <th>production_countries</th>\n",
       "      <td>[{'iso_3166_1': 'US', 'name': 'United States o...</td>\n",
       "    </tr>\n",
       "    <tr>\n",
       "      <th>release_date</th>\n",
       "      <td>2021-12-15</td>\n",
       "    </tr>\n",
       "    <tr>\n",
       "      <th>revenue</th>\n",
       "      <td>1876685954</td>\n",
       "    </tr>\n",
       "    <tr>\n",
       "      <th>runtime</th>\n",
       "      <td>148.0</td>\n",
       "    </tr>\n",
       "    <tr>\n",
       "      <th>spoken_languages</th>\n",
       "      <td>[{'english_name': 'English', 'iso_639_1': 'en'...</td>\n",
       "    </tr>\n",
       "    <tr>\n",
       "      <th>status</th>\n",
       "      <td>Released</td>\n",
       "    </tr>\n",
       "    <tr>\n",
       "      <th>tagline</th>\n",
       "      <td>The Multiverse unleashed.</td>\n",
       "    </tr>\n",
       "    <tr>\n",
       "      <th>title</th>\n",
       "      <td>Spider-Man: No Way Home</td>\n",
       "    </tr>\n",
       "    <tr>\n",
       "      <th>video</th>\n",
       "      <td>False</td>\n",
       "    </tr>\n",
       "    <tr>\n",
       "      <th>vote_average</th>\n",
       "      <td>8.3</td>\n",
       "    </tr>\n",
       "    <tr>\n",
       "      <th>vote_count</th>\n",
       "      <td>9509</td>\n",
       "    </tr>\n",
       "    <tr>\n",
       "      <th>credits</th>\n",
       "      <td>{'cast': [{'adult': False, 'gender': 2, 'id': ...</td>\n",
       "    </tr>\n",
       "    <tr>\n",
       "      <th>keywords</th>\n",
       "      <td>{'keywords': [{'id': 242, 'name': 'new york ci...</td>\n",
       "    </tr>\n",
       "  </tbody>\n",
       "</table>\n",
       "</div>"
      ],
      "text/plain": [
       "                                                                       0\n",
       "adult                                                              False\n",
       "backdrop_path                           /iQFcwSGbZXMkeyKrxbPnwnRo5fl.jpg\n",
       "belongs_to_collection  {'id': 531241, 'name': 'Spider-Man (Avengers) ...\n",
       "budget                                                         200000000\n",
       "genres                 [{'id': 28, 'name': 'Action'}, {'id': 12, 'nam...\n",
       "homepage                            https://www.spidermannowayhome.movie\n",
       "id                                                                634649\n",
       "imdb_id                                                       tt10872600\n",
       "original_language                                                     en\n",
       "original_title                                   Spider-Man: No Way Home\n",
       "overview               Peter Parker is unmasked and no longer able to...\n",
       "popularity                                                     10552.154\n",
       "poster_path                             /1g0dhYtq4irTY1GPXvft6k4YLjm.jpg\n",
       "production_companies   [{'id': 420, 'logo_path': '/hUzeosd33nzE5MCNsZ...\n",
       "production_countries   [{'iso_3166_1': 'US', 'name': 'United States o...\n",
       "release_date                                                  2021-12-15\n",
       "revenue                                                       1876685954\n",
       "runtime                                                            148.0\n",
       "spoken_languages       [{'english_name': 'English', 'iso_639_1': 'en'...\n",
       "status                                                          Released\n",
       "tagline                                        The Multiverse unleashed.\n",
       "title                                            Spider-Man: No Way Home\n",
       "video                                                              False\n",
       "vote_average                                                         8.3\n",
       "vote_count                                                          9509\n",
       "credits                {'cast': [{'adult': False, 'gender': 2, 'id': ...\n",
       "keywords               {'keywords': [{'id': 242, 'name': 'new york ci..."
      ]
     },
     "execution_count": 73,
     "metadata": {},
     "output_type": "execute_result"
    }
   ],
   "source": [
    "raw_data.head()\n",
    "raw_data.iloc[[0]].transpose()"
   ]
  },
  {
   "cell_type": "markdown",
   "metadata": {},
   "source": [
    "## Data Cleaning"
   ]
  },
  {
   "cell_type": "markdown",
   "metadata": {},
   "source": [
    "First we remove columns that we will obviously not be using, e.g. `backdrop_path`,\n",
    "`homepage`, etc. "
   ]
  },
  {
   "cell_type": "code",
   "execution_count": 74,
   "metadata": {},
   "outputs": [
    {
     "name": "stdout",
     "output_type": "stream",
     "text": [
      "<class 'pandas.core.frame.DataFrame'>\n",
      "RangeIndex: 5000 entries, 0 to 4999\n",
      "Data columns (total 22 columns):\n",
      " #   Column                Non-Null Count  Dtype  \n",
      "---  ------                --------------  -----  \n",
      " 0   adult                 5000 non-null   bool   \n",
      " 1   budget                5000 non-null   int64  \n",
      " 2   genres                5000 non-null   object \n",
      " 3   id                    5000 non-null   int64  \n",
      " 4   imdb_id               4938 non-null   object \n",
      " 5   original_language     5000 non-null   object \n",
      " 6   original_title        5000 non-null   object \n",
      " 7   overview              4963 non-null   object \n",
      " 8   popularity            5000 non-null   float64\n",
      " 9   production_companies  5000 non-null   object \n",
      " 10  production_countries  5000 non-null   object \n",
      " 11  release_date          4980 non-null   object \n",
      " 12  revenue               5000 non-null   int64  \n",
      " 13  runtime               4999 non-null   float64\n",
      " 14  spoken_languages      5000 non-null   object \n",
      " 15  status                5000 non-null   object \n",
      " 16  tagline               3750 non-null   object \n",
      " 17  title                 5000 non-null   object \n",
      " 18  vote_average          5000 non-null   float64\n",
      " 19  vote_count            5000 non-null   int64  \n",
      " 20  credits               5000 non-null   object \n",
      " 21  keywords              5000 non-null   object \n",
      "dtypes: bool(1), float64(3), int64(4), object(14)\n",
      "memory usage: 825.3+ KB\n"
     ]
    }
   ],
   "source": [
    "useless_columns = [\"backdrop_path\", \"belongs_to_collection\", \"homepage\", \n",
    "\"poster_path\", \"video\"]\n",
    "\n",
    "raw_data.drop(useless_columns, axis=1, inplace=True)\n",
    "raw_data.info()"
   ]
  },
  {
   "cell_type": "markdown",
   "metadata": {},
   "source": [
    "Next we parse `release_date` as a column of date objects, and convert `status` into a Boolean column (`True` for released, `False` otherwise). "
   ]
  },
  {
   "cell_type": "code",
   "execution_count": 75,
   "metadata": {},
   "outputs": [],
   "source": [
    "# parse dates\n",
    "raw_data[\"release_date\"] = pd.to_datetime(raw_data[\"release_date\"])\n",
    "# convert status column to Boolean, and only keep released films\n",
    "raw_data[\"status\"] = raw_data[\"status\"].map({\"Released\": True})"
   ]
  },
  {
   "cell_type": "markdown",
   "metadata": {},
   "source": [
    "The columns `genres`, `production_companies`, `production_countries`, `spoken_languages`,\n",
    "`credits`, and `keywords` are lists of quasi-JSON style strings. However, single\n",
    "quotes have been used, so instead we store them in the dataframe as lists of \n",
    "dictionaries."
   ]
  },
  {
   "cell_type": "code",
   "execution_count": 76,
   "metadata": {},
   "outputs": [
    {
     "name": "stdout",
     "output_type": "stream",
     "text": [
      "<class 'pandas.core.frame.DataFrame'>\n",
      "RangeIndex: 5000 entries, 0 to 4999\n",
      "Data columns (total 22 columns):\n",
      " #   Column                Non-Null Count  Dtype         \n",
      "---  ------                --------------  -----         \n",
      " 0   adult                 5000 non-null   bool          \n",
      " 1   budget                5000 non-null   int64         \n",
      " 2   genres                5000 non-null   object        \n",
      " 3   id                    5000 non-null   int64         \n",
      " 4   imdb_id               4938 non-null   object        \n",
      " 5   original_language     5000 non-null   object        \n",
      " 6   original_title        5000 non-null   object        \n",
      " 7   overview              4963 non-null   object        \n",
      " 8   popularity            5000 non-null   float64       \n",
      " 9   production_companies  5000 non-null   object        \n",
      " 10  production_countries  5000 non-null   object        \n",
      " 11  release_date          4980 non-null   datetime64[ns]\n",
      " 12  revenue               5000 non-null   int64         \n",
      " 13  runtime               4999 non-null   float64       \n",
      " 14  spoken_languages      5000 non-null   object        \n",
      " 15  status                4949 non-null   object        \n",
      " 16  tagline               3750 non-null   object        \n",
      " 17  title                 5000 non-null   object        \n",
      " 18  vote_average          5000 non-null   float64       \n",
      " 19  vote_count            5000 non-null   int64         \n",
      " 20  credits               5000 non-null   object        \n",
      " 21  keywords              5000 non-null   object        \n",
      "dtypes: bool(1), datetime64[ns](1), float64(3), int64(4), object(13)\n",
      "memory usage: 825.3+ KB\n"
     ]
    }
   ],
   "source": [
    "# parse columns with nested JSON objects as actual JSON objects instead of str\n",
    "json_cols = [\n",
    "    \"genres\", \"production_companies\", \"production_countries\", \"spoken_languages\", \n",
    "    \"credits\", \"keywords\"\n",
    "]\n",
    "\n",
    "for col in json_cols:\n",
    "    raw_data[col] = raw_data[col].apply(ast.literal_eval)\n",
    "\n",
    "raw_data.info()"
   ]
  },
  {
   "cell_type": "markdown",
   "metadata": {},
   "source": [
    "Due to the use of `ast.literal_eval`, we have ended up with the following columns:\n",
    "\n",
    "- `genres`, `production_companies`, `production_countries`, `spoken_languages` are lists\n",
    "- `credits` and `keywords` are dictionaries.\n",
    "\n",
    "Morevover, credits has keys `cast` and `crew`, while keywords simply has one \n",
    "key `keywords`. The corresponding values are in the same list of dictionaries structure \n",
    "as above. Hence, the best way to clean this data is to create two new columns \n",
    "for `cast` and `crew`, and simply reassign the `keywords` column to the actual \n",
    "value inside `keywords`. "
   ]
  },
  {
   "cell_type": "code",
   "execution_count": 77,
   "metadata": {},
   "outputs": [
    {
     "name": "stdout",
     "output_type": "stream",
     "text": [
      "genres done\n",
      "production_companies done\n",
      "production_countries done\n",
      "spoken_languages done\n",
      "cast done\n",
      "crew done\n",
      "keywords done\n"
     ]
    }
   ],
   "source": [
    "list_cols = [\"genres\", \"production_companies\", \"production_countries\", \"spoken_languages\",\n",
    "                \"cast\", \"crew\", \"keywords\"]\n",
    "\n",
    "cast = []\n",
    "crew = []\n",
    "for movie in raw_data[\"credits\"]:\n",
    "    cast.append(movie[\"cast\"])\n",
    "    crew.append(movie[\"crew\"])\n",
    "raw_data[\"cast\"] = pd.Series(cast)\n",
    "raw_data[\"crew\"] = pd.Series(crew)\n",
    "\n",
    "new_keywords = []\n",
    "for movie in raw_data[\"keywords\"]:\n",
    "    new_keywords.append(movie[\"keywords\"])\n",
    "raw_data[\"keywords\"] = pd.Series(new_keywords)\n",
    "\n",
    "def helper(col):\n",
    "    new_col = []\n",
    "    for val in col:\n",
    "        new_val = []\n",
    "        for x in val:\n",
    "            new_val.append(dict(x))\n",
    "        \n",
    "        new_col.append(new_val)\n",
    "    \n",
    "    return pd.Series(new_col)\n",
    "\n",
    "for col in list_cols:\n",
    "    raw_data[col] = helper(raw_data[col])\n",
    "    print(col + \" done\")"
   ]
  },
  {
   "cell_type": "markdown",
   "metadata": {},
   "source": [
    "We can now drop the `credits` column. "
   ]
  },
  {
   "cell_type": "code",
   "execution_count": null,
   "metadata": {},
   "outputs": [],
   "source": [
    "raw_data.drop(\"credits\", axis=1, inplace=True)\n",
    "raw_data.head()"
   ]
  },
  {
   "cell_type": "markdown",
   "metadata": {},
   "source": [
    "We finally have lists of valid JSON strings inside the columns. We are now ready to flatten the data and perform one-hot encoding. Whether or not a column should be flattened or one-hot encoded depends on the structure of the model being used. Hence, we define functions to perform either for future use. "
   ]
  },
  {
   "cell_type": "code",
   "execution_count": null,
   "metadata": {},
   "outputs": [],
   "source": [
    "# creates a flat dataframe based on any column\n",
    "def flatten(df: pd.DataFrame, col: str):\n",
    "    \"\"\"\n",
    "    INPUTS:\n",
    "        df:     (pd.DataFrame) a dataframe\n",
    "        col:    (str) the name of a column in df\n",
    "    OUTPUTS:\n",
    "                (pd.DataFrame) a dataframe flattened according to col\n",
    "    \"\"\"\n",
    "\n",
    "    ls_of_temps = []\n",
    "    for i in range(0, df.shape[0], 1):\n",
    "        temp_df = pd.json_normalize(df[col][i])\n",
    "        temp_df[\"movie_id\"] = df[\"id\"][i]\n",
    "        temp_df[\"movie_title\"] = df[\"title\"][i]\n",
    "\n",
    "        temp_df.columns = [col + \"_tmdb_\" + x if x == \"id\" else x for x in temp_df.columns]\n",
    "        temp_df.columns = [col + \"_\" + x if x == \"name\" else x for x in temp_df.columns]\n",
    "        \n",
    "        ls_of_temps.append(temp_df)\n",
    "    \n",
    "    return pd.concat(ls_of_temps)\n",
    "\n",
    "# creates a new one-hot encoded dataframe based on any column\n",
    "def one_hot(df: pd.DataFrame, col: str):\n",
    "    \"\"\"\n",
    "    INPUTS:\n",
    "        df:     (pd.DataFrame) a dataframe\n",
    "        col:    (str) the name of a column in df\n",
    "    OUTPUTS:\n",
    "                (pd.DataFrame) a dataframe one-hot encoded according to col\n",
    "    \"\"\"\n",
    "    # flatten data on col\n",
    "    flat_df = flatten(df, col)\n",
    "    \n",
    "    # compute one hot encoding using str.get_dummies\n",
    "    return flat_df.set_index(\"movie_id\")[col + \"_name\"].str.get_dummies().groupby(level=0).sum()\n",
    "    "
   ]
  },
  {
   "cell_type": "code",
   "execution_count": 78,
   "metadata": {},
   "outputs": [
    {
     "name": "stdout",
     "output_type": "stream",
     "text": [
      "<class 'pandas.core.frame.DataFrame'>\n",
      "RangeIndex: 5000 entries, 0 to 4999\n",
      "Data columns (total 24 columns):\n",
      " #   Column                Non-Null Count  Dtype         \n",
      "---  ------                --------------  -----         \n",
      " 0   adult                 5000 non-null   bool          \n",
      " 1   budget                5000 non-null   int64         \n",
      " 2   genres                5000 non-null   object        \n",
      " 3   id                    5000 non-null   int64         \n",
      " 4   imdb_id               4938 non-null   object        \n",
      " 5   original_language     5000 non-null   object        \n",
      " 6   original_title        5000 non-null   object        \n",
      " 7   overview              4963 non-null   object        \n",
      " 8   popularity            5000 non-null   float64       \n",
      " 9   production_companies  5000 non-null   object        \n",
      " 10  production_countries  5000 non-null   object        \n",
      " 11  release_date          4980 non-null   datetime64[ns]\n",
      " 12  revenue               5000 non-null   int64         \n",
      " 13  runtime               4999 non-null   float64       \n",
      " 14  spoken_languages      5000 non-null   object        \n",
      " 15  status                4949 non-null   object        \n",
      " 16  tagline               3750 non-null   object        \n",
      " 17  title                 5000 non-null   object        \n",
      " 18  vote_average          5000 non-null   float64       \n",
      " 19  vote_count            5000 non-null   int64         \n",
      " 20  credits               5000 non-null   object        \n",
      " 21  keywords              5000 non-null   object        \n",
      " 22  cast                  5000 non-null   object        \n",
      " 23  crew                  5000 non-null   object        \n",
      "dtypes: bool(1), datetime64[ns](1), float64(3), int64(4), object(15)\n",
      "memory usage: 903.4+ KB\n"
     ]
    }
   ],
   "source": [
    "raw_data.info()"
   ]
  },
  {
   "cell_type": "code",
   "execution_count": 83,
   "metadata": {},
   "outputs": [
    {
     "name": "stdout",
     "output_type": "stream",
     "text": [
      "<class 'pandas.core.frame.DataFrame'>\n",
      "Int64Index: 3869 entries, 0 to 4999\n",
      "Data columns (total 24 columns):\n",
      " #   Column                Non-Null Count  Dtype         \n",
      "---  ------                --------------  -----         \n",
      " 0   adult                 3869 non-null   bool          \n",
      " 1   budget                3869 non-null   int64         \n",
      " 2   genres                3869 non-null   object        \n",
      " 3   id                    3869 non-null   int64         \n",
      " 4   imdb_id               3847 non-null   object        \n",
      " 5   original_language     3869 non-null   object        \n",
      " 6   original_title        3869 non-null   object        \n",
      " 7   overview              3867 non-null   object        \n",
      " 8   popularity            3869 non-null   float64       \n",
      " 9   production_companies  3869 non-null   object        \n",
      " 10  production_countries  3869 non-null   object        \n",
      " 11  release_date          3867 non-null   datetime64[ns]\n",
      " 12  revenue               3869 non-null   int64         \n",
      " 13  runtime               3868 non-null   float64       \n",
      " 14  spoken_languages      3869 non-null   object        \n",
      " 15  status                3869 non-null   object        \n",
      " 16  tagline               3309 non-null   object        \n",
      " 17  title                 3869 non-null   object        \n",
      " 18  vote_average          3869 non-null   float64       \n",
      " 19  vote_count            3869 non-null   int64         \n",
      " 20  credits               3869 non-null   object        \n",
      " 21  keywords              3869 non-null   object        \n",
      " 22  cast                  3869 non-null   object        \n",
      " 23  crew                  3869 non-null   object        \n",
      "dtypes: bool(1), datetime64[ns](1), float64(3), int64(4), object(15)\n",
      "memory usage: 729.2+ KB\n"
     ]
    }
   ],
   "source": [
    "# raw_data[\"original_language\"].unique()\n",
    "# non-adult films only\n",
    "clean_data = raw_data[raw_data[\"adult\"] == False]\n",
    "# released films only \n",
    "clean_data = clean_data[clean_data[\"status\"] == True]\n",
    "# English-language films only\n",
    "clean_data = clean_data[clean_data[\"original_language\"] == \"en\"]\n",
    "\n",
    "clean_data.info()"
   ]
  },
  {
   "cell_type": "code",
   "execution_count": null,
   "metadata": {},
   "outputs": [],
   "source": []
  }
 ],
 "metadata": {
  "interpreter": {
   "hash": "4f02c88996a32810cd2ce8d40e0f1464503643c2f5f1f4ae02dfcb0942fbc74d"
  },
  "kernelspec": {
   "display_name": "Python 3.10.2 64-bit ('3.10.2')",
   "language": "python",
   "name": "python3"
  },
  "language_info": {
   "codemirror_mode": {
    "name": "ipython",
    "version": 3
   },
   "file_extension": ".py",
   "mimetype": "text/x-python",
   "name": "python",
   "nbconvert_exporter": "python",
   "pygments_lexer": "ipython3",
   "version": "3.10.2"
  },
  "orig_nbformat": 4
 },
 "nbformat": 4,
 "nbformat_minor": 2
}
