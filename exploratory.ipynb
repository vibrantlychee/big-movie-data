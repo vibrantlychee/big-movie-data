{
 "cells": [
  {
   "cell_type": "markdown",
   "metadata": {},
   "source": [
    "# Exploratory Data Analysis\n",
    "\n",
    "## Setup\n",
    "Import the relevant packages.\n"
   ]
  },
  {
   "cell_type": "code",
   "execution_count": 1,
   "metadata": {},
   "outputs": [],
   "source": [
    "import json\n",
    "import pandas as pd"
   ]
  },
  {
   "cell_type": "markdown",
   "metadata": {},
   "source": [
    "We have a single file `20220310.csv`. Let's first look at what type of data we \n",
    "are dealing with. "
   ]
  },
  {
   "cell_type": "code",
   "execution_count": 10,
   "metadata": {},
   "outputs": [
    {
     "name": "stdout",
     "output_type": "stream",
     "text": [
      "<class 'pandas.core.frame.DataFrame'>\n",
      "RangeIndex: 5000 entries, 0 to 4999\n",
      "Data columns (total 27 columns):\n",
      " #   Column                 Non-Null Count  Dtype  \n",
      "---  ------                 --------------  -----  \n",
      " 0   adult                  5000 non-null   bool   \n",
      " 1   backdrop_path          4874 non-null   object \n",
      " 2   belongs_to_collection  1742 non-null   object \n",
      " 3   budget                 5000 non-null   int64  \n",
      " 4   genres                 5000 non-null   object \n",
      " 5   homepage               2418 non-null   object \n",
      " 6   id                     5000 non-null   int64  \n",
      " 7   imdb_id                4938 non-null   object \n",
      " 8   original_language      5000 non-null   object \n",
      " 9   original_title         5000 non-null   object \n",
      " 10  overview               4963 non-null   object \n",
      " 11  popularity             5000 non-null   float64\n",
      " 12  poster_path            4995 non-null   object \n",
      " 13  production_companies   5000 non-null   object \n",
      " 14  production_countries   5000 non-null   object \n",
      " 15  release_date           4980 non-null   object \n",
      " 16  revenue                5000 non-null   int64  \n",
      " 17  runtime                4999 non-null   float64\n",
      " 18  spoken_languages       5000 non-null   object \n",
      " 19  status                 5000 non-null   object \n",
      " 20  tagline                3750 non-null   object \n",
      " 21  title                  5000 non-null   object \n",
      " 22  video                  5000 non-null   bool   \n",
      " 23  vote_average           5000 non-null   float64\n",
      " 24  vote_count             5000 non-null   int64  \n",
      " 25  credits                5000 non-null   object \n",
      " 26  keywords               5000 non-null   object \n",
      "dtypes: bool(2), float64(3), int64(4), object(18)\n",
      "memory usage: 986.5+ KB\n"
     ]
    }
   ],
   "source": [
    "# load in csv as dataframes\n",
    "# lineterminator option is used as there are some line separation issues.\n",
    "raw_data = pd.read_csv(\"raw-data/20220310.csv\", lineterminator=\"\\n\")\n",
    "\n",
    "# get summary information on the data frame, including columns and data types\n",
    "raw_data.info()"
   ]
  },
  {
   "cell_type": "markdown",
   "metadata": {},
   "source": [
    "Let's also look at the first few rows to see what we are dealing with. "
   ]
  },
  {
   "cell_type": "code",
   "execution_count": 11,
   "metadata": {},
   "outputs": [
    {
     "data": {
      "text/html": [
       "<div>\n",
       "<style scoped>\n",
       "    .dataframe tbody tr th:only-of-type {\n",
       "        vertical-align: middle;\n",
       "    }\n",
       "\n",
       "    .dataframe tbody tr th {\n",
       "        vertical-align: top;\n",
       "    }\n",
       "\n",
       "    .dataframe thead th {\n",
       "        text-align: right;\n",
       "    }\n",
       "</style>\n",
       "<table border=\"1\" class=\"dataframe\">\n",
       "  <thead>\n",
       "    <tr style=\"text-align: right;\">\n",
       "      <th></th>\n",
       "      <th>adult</th>\n",
       "      <th>backdrop_path</th>\n",
       "      <th>belongs_to_collection</th>\n",
       "      <th>budget</th>\n",
       "      <th>genres</th>\n",
       "      <th>homepage</th>\n",
       "      <th>id</th>\n",
       "      <th>imdb_id</th>\n",
       "      <th>original_language</th>\n",
       "      <th>original_title</th>\n",
       "      <th>...</th>\n",
       "      <th>runtime</th>\n",
       "      <th>spoken_languages</th>\n",
       "      <th>status</th>\n",
       "      <th>tagline</th>\n",
       "      <th>title</th>\n",
       "      <th>video</th>\n",
       "      <th>vote_average</th>\n",
       "      <th>vote_count</th>\n",
       "      <th>credits</th>\n",
       "      <th>keywords</th>\n",
       "    </tr>\n",
       "  </thead>\n",
       "  <tbody>\n",
       "    <tr>\n",
       "      <th>0</th>\n",
       "      <td>False</td>\n",
       "      <td>/iQFcwSGbZXMkeyKrxbPnwnRo5fl.jpg</td>\n",
       "      <td>{'id': 531241, 'name': 'Spider-Man (Avengers) ...</td>\n",
       "      <td>200000000</td>\n",
       "      <td>[{'id': 28, 'name': 'Action'}, {'id': 12, 'nam...</td>\n",
       "      <td>https://www.spidermannowayhome.movie</td>\n",
       "      <td>634649</td>\n",
       "      <td>tt10872600</td>\n",
       "      <td>en</td>\n",
       "      <td>Spider-Man: No Way Home</td>\n",
       "      <td>...</td>\n",
       "      <td>148.0</td>\n",
       "      <td>[{'english_name': 'English', 'iso_639_1': 'en'...</td>\n",
       "      <td>Released</td>\n",
       "      <td>The Multiverse unleashed.</td>\n",
       "      <td>Spider-Man: No Way Home</td>\n",
       "      <td>False</td>\n",
       "      <td>8.3</td>\n",
       "      <td>9509</td>\n",
       "      <td>{'cast': [{'adult': False, 'gender': 2, 'id': ...</td>\n",
       "      <td>{'keywords': [{'id': 242, 'name': 'new york ci...</td>\n",
       "    </tr>\n",
       "    <tr>\n",
       "      <th>1</th>\n",
       "      <td>False</td>\n",
       "      <td>/5P8SmMzSNYikXpxil6BYzJ16611.jpg</td>\n",
       "      <td>{'id': 948485, 'name': 'The Batman Collection'...</td>\n",
       "      <td>185000000</td>\n",
       "      <td>[{'id': 80, 'name': 'Crime'}, {'id': 9648, 'na...</td>\n",
       "      <td>https://www.thebatman.com</td>\n",
       "      <td>414906</td>\n",
       "      <td>tt1877830</td>\n",
       "      <td>en</td>\n",
       "      <td>The Batman</td>\n",
       "      <td>...</td>\n",
       "      <td>176.0</td>\n",
       "      <td>[{'english_name': 'English', 'iso_639_1': 'en'...</td>\n",
       "      <td>Released</td>\n",
       "      <td>Unmask the truth.</td>\n",
       "      <td>The Batman</td>\n",
       "      <td>False</td>\n",
       "      <td>8.0</td>\n",
       "      <td>1738</td>\n",
       "      <td>{'cast': [{'adult': False, 'gender': 2, 'id': ...</td>\n",
       "      <td>{'keywords': [{'id': 849, 'name': 'dc comics'}...</td>\n",
       "    </tr>\n",
       "    <tr>\n",
       "      <th>2</th>\n",
       "      <td>False</td>\n",
       "      <td>/tAztR7AXEesMQAAi5ncFPSZtYlI.jpg</td>\n",
       "      <td>NaN</td>\n",
       "      <td>0</td>\n",
       "      <td>[{'id': 27, 'name': 'Horror'}, {'id': 53, 'nam...</td>\n",
       "      <td>https://www.hulu.com/movie/no-exit-4800d468-b5...</td>\n",
       "      <td>833425</td>\n",
       "      <td>tt7550014</td>\n",
       "      <td>en</td>\n",
       "      <td>No Exit</td>\n",
       "      <td>...</td>\n",
       "      <td>96.0</td>\n",
       "      <td>[{'english_name': 'English', 'iso_639_1': 'en'...</td>\n",
       "      <td>Released</td>\n",
       "      <td>Who will survive the dead of winter?</td>\n",
       "      <td>No Exit</td>\n",
       "      <td>False</td>\n",
       "      <td>6.5</td>\n",
       "      <td>208</td>\n",
       "      <td>{'cast': [{'adult': False, 'gender': 1, 'id': ...</td>\n",
       "      <td>{'keywords': [{'id': 818, 'name': 'based on no...</td>\n",
       "    </tr>\n",
       "    <tr>\n",
       "      <th>3</th>\n",
       "      <td>False</td>\n",
       "      <td>/3G1Q5xF40HkUBJXxt2DQgQzKTp5.jpg</td>\n",
       "      <td>NaN</td>\n",
       "      <td>50000000</td>\n",
       "      <td>[{'id': 16, 'name': 'Animation'}, {'id': 35, '...</td>\n",
       "      <td>https://movies.disney.com/encanto</td>\n",
       "      <td>568124</td>\n",
       "      <td>tt2953050</td>\n",
       "      <td>en</td>\n",
       "      <td>Encanto</td>\n",
       "      <td>...</td>\n",
       "      <td>102.0</td>\n",
       "      <td>[{'english_name': 'English', 'iso_639_1': 'en'...</td>\n",
       "      <td>Released</td>\n",
       "      <td>There's a little magic in all of us ...almost ...</td>\n",
       "      <td>Encanto</td>\n",
       "      <td>False</td>\n",
       "      <td>7.7</td>\n",
       "      <td>5282</td>\n",
       "      <td>{'cast': [{'adult': False, 'gender': 1, 'id': ...</td>\n",
       "      <td>{'keywords': [{'id': 2343, 'name': 'magic'}, {...</td>\n",
       "    </tr>\n",
       "    <tr>\n",
       "      <th>4</th>\n",
       "      <td>False</td>\n",
       "      <td>/7CamWBejQ9JQOO5vAghZfrFpMXY.jpg</td>\n",
       "      <td>NaN</td>\n",
       "      <td>0</td>\n",
       "      <td>[{'id': 28, 'name': 'Action'}, {'id': 53, 'nam...</td>\n",
       "      <td>https://www.netflix.com/title/81424708</td>\n",
       "      <td>928381</td>\n",
       "      <td>tt14465894</td>\n",
       "      <td>fr</td>\n",
       "      <td>Sans répit</td>\n",
       "      <td>...</td>\n",
       "      <td>95.0</td>\n",
       "      <td>[{'english_name': 'French', 'iso_639_1': 'fr',...</td>\n",
       "      <td>Released</td>\n",
       "      <td>NaN</td>\n",
       "      <td>Restless</td>\n",
       "      <td>False</td>\n",
       "      <td>5.9</td>\n",
       "      <td>152</td>\n",
       "      <td>{'cast': [{'adult': False, 'gender': 2, 'id': ...</td>\n",
       "      <td>{'keywords': [{'id': 9714, 'name': 'remake'}]}</td>\n",
       "    </tr>\n",
       "  </tbody>\n",
       "</table>\n",
       "<p>5 rows × 27 columns</p>\n",
       "</div>"
      ],
      "text/plain": [
       "   adult                     backdrop_path  \\\n",
       "0  False  /iQFcwSGbZXMkeyKrxbPnwnRo5fl.jpg   \n",
       "1  False  /5P8SmMzSNYikXpxil6BYzJ16611.jpg   \n",
       "2  False  /tAztR7AXEesMQAAi5ncFPSZtYlI.jpg   \n",
       "3  False  /3G1Q5xF40HkUBJXxt2DQgQzKTp5.jpg   \n",
       "4  False  /7CamWBejQ9JQOO5vAghZfrFpMXY.jpg   \n",
       "\n",
       "                               belongs_to_collection     budget  \\\n",
       "0  {'id': 531241, 'name': 'Spider-Man (Avengers) ...  200000000   \n",
       "1  {'id': 948485, 'name': 'The Batman Collection'...  185000000   \n",
       "2                                                NaN          0   \n",
       "3                                                NaN   50000000   \n",
       "4                                                NaN          0   \n",
       "\n",
       "                                              genres  \\\n",
       "0  [{'id': 28, 'name': 'Action'}, {'id': 12, 'nam...   \n",
       "1  [{'id': 80, 'name': 'Crime'}, {'id': 9648, 'na...   \n",
       "2  [{'id': 27, 'name': 'Horror'}, {'id': 53, 'nam...   \n",
       "3  [{'id': 16, 'name': 'Animation'}, {'id': 35, '...   \n",
       "4  [{'id': 28, 'name': 'Action'}, {'id': 53, 'nam...   \n",
       "\n",
       "                                            homepage      id     imdb_id  \\\n",
       "0               https://www.spidermannowayhome.movie  634649  tt10872600   \n",
       "1                          https://www.thebatman.com  414906   tt1877830   \n",
       "2  https://www.hulu.com/movie/no-exit-4800d468-b5...  833425   tt7550014   \n",
       "3                  https://movies.disney.com/encanto  568124   tt2953050   \n",
       "4             https://www.netflix.com/title/81424708  928381  tt14465894   \n",
       "\n",
       "  original_language           original_title  ... runtime  \\\n",
       "0                en  Spider-Man: No Way Home  ...   148.0   \n",
       "1                en               The Batman  ...   176.0   \n",
       "2                en                  No Exit  ...    96.0   \n",
       "3                en                  Encanto  ...   102.0   \n",
       "4                fr               Sans répit  ...    95.0   \n",
       "\n",
       "                                    spoken_languages    status  \\\n",
       "0  [{'english_name': 'English', 'iso_639_1': 'en'...  Released   \n",
       "1  [{'english_name': 'English', 'iso_639_1': 'en'...  Released   \n",
       "2  [{'english_name': 'English', 'iso_639_1': 'en'...  Released   \n",
       "3  [{'english_name': 'English', 'iso_639_1': 'en'...  Released   \n",
       "4  [{'english_name': 'French', 'iso_639_1': 'fr',...  Released   \n",
       "\n",
       "                                             tagline                    title  \\\n",
       "0                          The Multiverse unleashed.  Spider-Man: No Way Home   \n",
       "1                                  Unmask the truth.               The Batman   \n",
       "2               Who will survive the dead of winter?                  No Exit   \n",
       "3  There's a little magic in all of us ...almost ...                  Encanto   \n",
       "4                                                NaN                 Restless   \n",
       "\n",
       "   video  vote_average  vote_count  \\\n",
       "0  False           8.3        9509   \n",
       "1  False           8.0        1738   \n",
       "2  False           6.5         208   \n",
       "3  False           7.7        5282   \n",
       "4  False           5.9         152   \n",
       "\n",
       "                                             credits  \\\n",
       "0  {'cast': [{'adult': False, 'gender': 2, 'id': ...   \n",
       "1  {'cast': [{'adult': False, 'gender': 2, 'id': ...   \n",
       "2  {'cast': [{'adult': False, 'gender': 1, 'id': ...   \n",
       "3  {'cast': [{'adult': False, 'gender': 1, 'id': ...   \n",
       "4  {'cast': [{'adult': False, 'gender': 2, 'id': ...   \n",
       "\n",
       "                                            keywords  \n",
       "0  {'keywords': [{'id': 242, 'name': 'new york ci...  \n",
       "1  {'keywords': [{'id': 849, 'name': 'dc comics'}...  \n",
       "2  {'keywords': [{'id': 818, 'name': 'based on no...  \n",
       "3  {'keywords': [{'id': 2343, 'name': 'magic'}, {...  \n",
       "4     {'keywords': [{'id': 9714, 'name': 'remake'}]}  \n",
       "\n",
       "[5 rows x 27 columns]"
      ]
     },
     "execution_count": 11,
     "metadata": {},
     "output_type": "execute_result"
    }
   ],
   "source": [
    "raw_data.head()"
   ]
  },
  {
   "cell_type": "markdown",
   "metadata": {},
   "source": [
    "## Data Cleaning"
   ]
  },
  {
   "cell_type": "markdown",
   "metadata": {},
   "source": [
    "First we remove columns that we will obviously not be using, e.g. `backdrop_path`,\n",
    "`homepage`, etc. "
   ]
  },
  {
   "cell_type": "code",
   "execution_count": 15,
   "metadata": {},
   "outputs": [
    {
     "name": "stdout",
     "output_type": "stream",
     "text": [
      "<class 'pandas.core.frame.DataFrame'>\n",
      "RangeIndex: 5000 entries, 0 to 4999\n",
      "Data columns (total 22 columns):\n",
      " #   Column                Non-Null Count  Dtype  \n",
      "---  ------                --------------  -----  \n",
      " 0   adult                 5000 non-null   bool   \n",
      " 1   budget                5000 non-null   int64  \n",
      " 2   genres                5000 non-null   object \n",
      " 3   id                    5000 non-null   int64  \n",
      " 4   imdb_id               4938 non-null   object \n",
      " 5   original_language     5000 non-null   object \n",
      " 6   original_title        5000 non-null   object \n",
      " 7   overview              4963 non-null   object \n",
      " 8   popularity            5000 non-null   float64\n",
      " 9   production_companies  5000 non-null   object \n",
      " 10  production_countries  5000 non-null   object \n",
      " 11  release_date          4980 non-null   object \n",
      " 12  revenue               5000 non-null   int64  \n",
      " 13  runtime               4999 non-null   float64\n",
      " 14  spoken_languages      5000 non-null   object \n",
      " 15  status                5000 non-null   object \n",
      " 16  tagline               3750 non-null   object \n",
      " 17  title                 5000 non-null   object \n",
      " 18  vote_average          5000 non-null   float64\n",
      " 19  vote_count            5000 non-null   int64  \n",
      " 20  credits               5000 non-null   object \n",
      " 21  keywords              5000 non-null   object \n",
      "dtypes: bool(1), float64(3), int64(4), object(14)\n",
      "memory usage: 825.3+ KB\n"
     ]
    }
   ],
   "source": [
    "useless_columns = [\"backdrop_path\", \"belongs_to_collection\", \"homepage\", \n",
    "\"poster_path\", \"video\"]\n",
    "\n",
    "raw_data.drop(useless_columns, axis=1, inplace=True)\n",
    "raw_data.info()"
   ]
  },
  {
   "cell_type": "markdown",
   "metadata": {},
   "source": [
    "\n",
    "The columns `genres`, `keywords`, `production_companies`, `production_countries`, `spoken_languages` in `movies.csv` and `cast` and `crew` in `credits.csv` are lists of dicts, so we load them in as JSON objects. "
   ]
  },
  {
   "cell_type": "code",
   "execution_count": null,
   "metadata": {},
   "outputs": [],
   "source": [
    "# parse dates\n",
    "movies[\"release_date\"] = pd.to_datetime(movies[\"release_date\"]).apply(lambda x: x.date())\n",
    "\n",
    "# parse columns with nested JSON objects as actual JSON objects instead of str\n",
    "# movies.csv\n",
    "movies_json_columns = [\n",
    "    \"genres\", \"keywords\", \"production_companies\", \"production_countries\", \n",
    "    \"spoken_languages\"\n",
    "]\n",
    "for col in movies_json_columns:\n",
    "    movies[col] = movies[col].apply(json.loads)\n",
    "\n",
    "# credits.csv\n",
    "credits_json_columns = [\"cast\", \"crew\"]\n",
    "for col in credits_json_columns:\n",
    "    credits[col] = credits[col].apply(json.loads)"
   ]
  },
  {
   "cell_type": "markdown",
   "metadata": {},
   "source": [
    "We also require the datasets in long form. First we work with `credits.csv`."
   ]
  },
  {
   "cell_type": "code",
   "execution_count": null,
   "metadata": {},
   "outputs": [],
   "source": [
    "credits.head()"
   ]
  },
  {
   "cell_type": "code",
   "execution_count": null,
   "metadata": {},
   "outputs": [],
   "source": [
    "list_of_casts = []\n",
    "for i in range(0, credits.shape[0], 1):\n",
    "    cast = pd.json_normalize(credits.cast[i])\n",
    "    cast[\"movie_id\"] = credits.iloc[i, 0]\n",
    "    cast[\"title\"] = credits.iloc[i,1]\n",
    "\n",
    "    list_of_casts.append(cast)\n",
    "\n",
    "flat_casts = pd.concat(list_of_casts)\n",
    "flat_casts.sample(5)\n"
   ]
  },
  {
   "cell_type": "markdown",
   "metadata": {},
   "source": [
    "We do the same to flatten crew"
   ]
  },
  {
   "cell_type": "code",
   "execution_count": null,
   "metadata": {},
   "outputs": [],
   "source": [
    "list_of_crews = []\n",
    "for i in range(0, credits.shape[0], 1):\n",
    "    crew = pd.json_normalize(credits.crew[i])\n",
    "    crew[\"movie_id\"] = credits.iloc[i, 0]\n",
    "    crew[\"title\"] = credits.iloc[i,1]\n",
    "\n",
    "    list_of_crews.append(crew)\n",
    "\n",
    "flat_crew = pd.concat(list_of_casts)\n",
    "flat_crew.sample(5)"
   ]
  },
  {
   "cell_type": "markdown",
   "metadata": {},
   "source": [
    "Now we join the cast and crew tables to arrive at `credits.csv` in long form. "
   ]
  },
  {
   "cell_type": "code",
   "execution_count": null,
   "metadata": {},
   "outputs": [],
   "source": [
    "flat_casts.columns = [\"cast_order\" if x == \"order\" else x for x in flat_casts.columns]\n",
    "flat_crew.columns = [\"crew_order\" if x == \"order\" else x for x in flat_crew.columns]"
   ]
  },
  {
   "cell_type": "code",
   "execution_count": null,
   "metadata": {},
   "outputs": [],
   "source": [
    "# flattened credits completely such that every row is exactly one observation\n",
    "# an observation is \n",
    "flat_credits = pd.concat([flat_casts, flat_crew])\n",
    "flat_credits.sample(5)"
   ]
  },
  {
   "cell_type": "markdown",
   "metadata": {},
   "source": [
    "Now we work with `movies.csv`. Recall its structure:"
   ]
  },
  {
   "cell_type": "code",
   "execution_count": null,
   "metadata": {},
   "outputs": [],
   "source": [
    "movies.head()"
   ]
  },
  {
   "cell_type": "markdown",
   "metadata": {},
   "source": [
    "First we drop the `homepage` column, as it is of no use. "
   ]
  },
  {
   "cell_type": "code",
   "execution_count": null,
   "metadata": {},
   "outputs": [],
   "source": [
    "movies.drop(columns=[\"homepage\"], inplace=True)\n",
    "movies.head()"
   ]
  },
  {
   "cell_type": "markdown",
   "metadata": {},
   "source": [
    "Now we work with the genres. Note that we would like to turn each genre into \n",
    "a column, i.e. one-hot encoding. Code from:\n",
    "https://stackoverflow.com/questions/48213149/creating-one-hot-encodings-from-a-column-of-dictionaries-with-pandas "
   ]
  },
  {
   "cell_type": "markdown",
   "metadata": {},
   "source": []
  }
 ],
 "metadata": {
  "interpreter": {
   "hash": "4f02c88996a32810cd2ce8d40e0f1464503643c2f5f1f4ae02dfcb0942fbc74d"
  },
  "kernelspec": {
   "display_name": "Python 3.10.2 64-bit ('3.10.2')",
   "language": "python",
   "name": "python3"
  },
  "language_info": {
   "codemirror_mode": {
    "name": "ipython",
    "version": 3
   },
   "file_extension": ".py",
   "mimetype": "text/x-python",
   "name": "python",
   "nbconvert_exporter": "python",
   "pygments_lexer": "ipython3",
   "version": "3.10.2"
  },
  "orig_nbformat": 4
 },
 "nbformat": 4,
 "nbformat_minor": 2
}
